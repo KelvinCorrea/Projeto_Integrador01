{
 "cells": [
  {
   "cell_type": "markdown",
   "id": "dfc58cdd",
   "metadata": {},
   "source": [
    "Strings = valores de texto compostos por uma sequência de caracteres, ou seja, juntar números e letras."
   ]
  },
  {
   "cell_type": "code",
   "execution_count": 1,
   "id": "4c2db6e9",
   "metadata": {},
   "outputs": [
    {
     "data": {
      "text/plain": [
       "'jorge'"
      ]
     },
     "execution_count": 1,
     "metadata": {},
     "output_type": "execute_result"
    }
   ],
   "source": [
    "'jorge'"
   ]
  },
  {
   "cell_type": "markdown",
   "id": "56e4770b",
   "metadata": {},
   "source": [
    "para não aparecer entre aspas, faça o print"
   ]
  },
  {
   "cell_type": "code",
   "execution_count": 2,
   "id": "9e123711",
   "metadata": {},
   "outputs": [
    {
     "name": "stdout",
     "output_type": "stream",
     "text": [
      "jorge\n"
     ]
    }
   ],
   "source": [
    "print(\"jorge\")"
   ]
  },
  {
   "cell_type": "markdown",
   "id": "1f77e28c",
   "metadata": {},
   "source": [
    "Como aparecer letra e número juntos? usando a String (str)"
   ]
  },
  {
   "cell_type": "code",
   "execution_count": 3,
   "id": "070a4391",
   "metadata": {},
   "outputs": [
    {
     "name": "stdout",
     "output_type": "stream",
     "text": [
      "12 dólares\n"
     ]
    }
   ],
   "source": [
    "x = 12 \n",
    "print (str(x) + \" dólares\")"
   ]
  },
  {
   "cell_type": "code",
   "execution_count": null,
   "id": "aa24753c",
   "metadata": {},
   "outputs": [],
   "source": []
  }
 ],
 "metadata": {
  "kernelspec": {
   "display_name": "Python 3 (ipykernel)",
   "language": "python",
   "name": "python3"
  },
  "language_info": {
   "codemirror_mode": {
    "name": "ipython",
    "version": 3
   },
   "file_extension": ".py",
   "mimetype": "text/x-python",
   "name": "python",
   "nbconvert_exporter": "python",
   "pygments_lexer": "ipython3",
   "version": "3.9.7"
  }
 },
 "nbformat": 4,
 "nbformat_minor": 5
}
