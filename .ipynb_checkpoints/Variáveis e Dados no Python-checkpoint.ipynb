{
 "cells": [
  {
   "cell_type": "markdown",
   "id": "722249d8",
   "metadata": {},
   "source": [
    "Inteiros: Numeros inteiros positivos ou negativos (sem um ponto decimal)"
   ]
  },
  {
   "cell_type": "markdown",
   "id": "1ff5c066",
   "metadata": {},
   "source": [
    "Pontos flutuantes (float): Números reais (sem um ponto decimal)"
   ]
  },
  {
   "cell_type": "markdown",
   "id": "03ef3e7e",
   "metadata": {},
   "source": [
    "Valores Booleanos: (verdadeiro ou falso)"
   ]
  },
  {
   "cell_type": "markdown",
   "id": "432e24c8",
   "metadata": {},
   "source": [
    "Como saber que tipo de dado é: Escreva Type(nome_varivel) para saber com que dado estamos lidando"
   ]
  },
  {
   "cell_type": "code",
   "execution_count": 1,
   "id": "95b0dffc",
   "metadata": {},
   "outputs": [
    {
     "data": {
      "text/plain": [
       "int"
      ]
     },
     "execution_count": 1,
     "metadata": {},
     "output_type": "execute_result"
    }
   ],
   "source": [
    "x = 7\n",
    "type(x)"
   ]
  },
  {
   "cell_type": "code",
   "execution_count": 3,
   "id": "99873747",
   "metadata": {},
   "outputs": [
    {
     "data": {
      "text/plain": [
       "bool"
      ]
     },
     "execution_count": 3,
     "metadata": {},
     "output_type": "execute_result"
    }
   ],
   "source": [
    "u = False\n",
    "type(u)"
   ]
  },
  {
   "cell_type": "code",
   "execution_count": 5,
   "id": "4b8cb3ee",
   "metadata": {},
   "outputs": [
    {
     "data": {
      "text/plain": [
       "float"
      ]
     },
     "execution_count": 5,
     "metadata": {},
     "output_type": "execute_result"
    }
   ],
   "source": [
    "h = 43.5\n",
    "type (h)"
   ]
  },
  {
   "cell_type": "markdown",
   "id": "bd6d799e",
   "metadata": {},
   "source": [
    "para transformar um tipo de dado em outro basta colocar o tipo de dado desejado e entre parênteses a variável a ser modificada:"
   ]
  },
  {
   "cell_type": "code",
   "execution_count": 6,
   "id": "2c24191d",
   "metadata": {},
   "outputs": [
    {
     "data": {
      "text/plain": [
       "43"
      ]
     },
     "execution_count": 6,
     "metadata": {},
     "output_type": "execute_result"
    }
   ],
   "source": [
    "int (h)"
   ]
  },
  {
   "cell_type": "code",
   "execution_count": 7,
   "id": "72ab64a8",
   "metadata": {},
   "outputs": [
    {
     "data": {
      "text/plain": [
       "0"
      ]
     },
     "execution_count": 7,
     "metadata": {},
     "output_type": "execute_result"
    }
   ],
   "source": [
    "int (u)"
   ]
  },
  {
   "cell_type": "markdown",
   "id": "5a3ee882",
   "metadata": {},
   "source": [
    "Vocẽ usa o booleano para decidir/perguntar sobre um dado, veja só:\n",
    "7 é igual a 10? (veja o código perguntando isso):"
   ]
  },
  {
   "cell_type": "code",
   "execution_count": 8,
   "id": "c98a044e",
   "metadata": {},
   "outputs": [
    {
     "data": {
      "text/plain": [
       "False"
      ]
     },
     "execution_count": 8,
     "metadata": {},
     "output_type": "execute_result"
    }
   ],
   "source": [
    "7 == 10"
   ]
  },
  {
   "cell_type": "code",
   "execution_count": 9,
   "id": "7e8fa33a",
   "metadata": {},
   "outputs": [
    {
     "data": {
      "text/plain": [
       "True"
      ]
     },
     "execution_count": 9,
     "metadata": {},
     "output_type": "execute_result"
    }
   ],
   "source": [
    "7 <= 7"
   ]
  },
  {
   "cell_type": "code",
   "execution_count": 10,
   "id": "323db889",
   "metadata": {},
   "outputs": [
    {
     "data": {
      "text/plain": [
       "True"
      ]
     },
     "execution_count": 10,
     "metadata": {},
     "output_type": "execute_result"
    }
   ],
   "source": [
    "7 >= 7"
   ]
  },
  {
   "cell_type": "markdown",
   "id": "58ee4de6",
   "metadata": {},
   "source": [
    "Traduzindo: 7 é igual a 10?\n",
    "R: Não\n",
    "7 é menor ou igual a 7?\n",
    "R: Sim\n",
    "7 é maior ou igual a 7?\n",
    "R: SIm\n",
    "7 é diferente de 0?\n",
    "R: Sim"
   ]
  },
  {
   "cell_type": "code",
   "execution_count": 11,
   "id": "c5553964",
   "metadata": {},
   "outputs": [
    {
     "data": {
      "text/plain": [
       "True"
      ]
     },
     "execution_count": 11,
     "metadata": {},
     "output_type": "execute_result"
    }
   ],
   "source": [
    "7!=0"
   ]
  },
  {
   "cell_type": "code",
   "execution_count": null,
   "id": "b22dcd23",
   "metadata": {},
   "outputs": [],
   "source": []
  }
 ],
 "metadata": {
  "kernelspec": {
   "display_name": "Python 3 (ipykernel)",
   "language": "python",
   "name": "python3"
  },
  "language_info": {
   "codemirror_mode": {
    "name": "ipython",
    "version": 3
   },
   "file_extension": ".py",
   "mimetype": "text/x-python",
   "name": "python",
   "nbconvert_exporter": "python",
   "pygments_lexer": "ipython3",
   "version": "3.9.7"
  }
 },
 "nbformat": 4,
 "nbformat_minor": 5
}
